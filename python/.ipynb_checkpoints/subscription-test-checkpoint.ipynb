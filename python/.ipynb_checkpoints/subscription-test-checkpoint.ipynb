{
 "cells": [
  {
   "cell_type": "code",
   "execution_count": 2,
   "id": "8e277e56-b87d-4e28-a2c6-d6aae1fda6b8",
   "metadata": {},
   "outputs": [],
   "source": [
    "import rclpy as rp\n",
    "from turtlesim.msg import Pose"
   ]
  },
  {
   "cell_type": "markdown",
   "id": "521a306a-fe25-4568-aec6-6d572f0ebd2f",
   "metadata": {},
   "source": [
    "- rclpy: ROS 2의 파이썬 클라이언트 라이브러리로, ROS 2에서 노드를 생성하고 통신하는 데 필요한 기능들을 파이썬으로 사용할 수 있도록 제공합니다. 예를 들어, ROS 2에서 메시지 전송(Publisher) 및 수신(Subscriber), 서비스 호출 등을 가능하게 하며, ROS 2 네트워크와 통신할 수 있도록 도와줍니다.\n",
    "- turtlesim.msg: turtlesim 패키지에서 제공하는 메시지 타입 라이브러리입니다. Pose 메시지는 거북이 시뮬레이터의 위치 정보를 담고 있으며, 거북이의 좌표(x, y)와 방향(theta) 정보, 그리고 선형(linear), 각속도(angular) 등의 데이터를 포함합니다.\n"
   ]
  },
  {
   "cell_type": "code",
   "execution_count": 3,
   "id": "93c21b9e-5279-4b29-b69b-d38bc20a7c33",
   "metadata": {},
   "outputs": [],
   "source": [
    "rp.init()"
   ]
  },
  {
   "cell_type": "code",
   "execution_count": 4,
   "id": "c3ee08a1-6db6-4f56-9f01-49d58f302846",
   "metadata": {},
   "outputs": [],
   "source": [
    "test_node = rp.create_node('sub_test')"
   ]
  },
  {
   "cell_type": "code",
   "execution_count": 5,
   "id": "d918287c-a423-45df-9099-b48263167440",
   "metadata": {},
   "outputs": [
    {
     "data": {
      "text/plain": [
       "<rclpy.node.Node at 0x710e869ac0d0>"
      ]
     },
     "execution_count": 5,
     "metadata": {},
     "output_type": "execute_result"
    }
   ],
   "source": [
    "test_node"
   ]
  },
  {
   "cell_type": "markdown",
   "id": "c5a903eb-95ad-4c70-a3e9-afd117b4e544",
   "metadata": {},
   "source": [
    "### callback function for Subscription"
   ]
  },
  {
   "cell_type": "code",
   "execution_count": 7,
   "id": "29f9a1d4-6ba7-44ba-95f4-5fe7b31b469c",
   "metadata": {},
   "outputs": [],
   "source": [
    "def callback(data):\n",
    "    print(\"--->\")\n",
    "    print(\"/turtle1/pose : \", data)\n",
    "    print(\"X : \", data.x)\n",
    "    print(\"Y : \", data.y)\n",
    "    print(\"Theta : \", data.theta)"
   ]
  },
  {
   "cell_type": "markdown",
   "id": "89ff0f67-5547-4176-8d3d-e158e3c7587f",
   "metadata": {},
   "source": [
    "### topic subscriber"
   ]
  },
  {
   "cell_type": "markdown",
   "id": "b0dbadc6-edc6-45e1-b0a7-d7ec9c586f1e",
   "metadata": {},
   "source": [
    "`node.create_subscription(<data_type>, '<topic_name>', <callback>, <QoS History>)`"
   ]
  },
  {
   "cell_type": "code",
   "execution_count": 8,
   "id": "8b86b3de-ccea-48e5-9133-ae2eb302922e",
   "metadata": {},
   "outputs": [
    {
     "data": {
      "text/plain": [
       "<rclpy.subscription.Subscription at 0x710e73f5a860>"
      ]
     },
     "execution_count": 8,
     "metadata": {},
     "output_type": "execute_result"
    }
   ],
   "source": [
    "test_node.create_subscription(Pose, '/turtle1/pose', callback, 10)"
   ]
  },
  {
   "cell_type": "code",
   "execution_count": 10,
   "id": "037baaa9-10f6-490d-ab56-8be51425997f",
   "metadata": {},
   "outputs": [
    {
     "name": "stdout",
     "output_type": "stream",
     "text": [
      "--->\n",
      "/turtle1/pose :  turtlesim.msg.Pose(x=5.544444561004639, y=5.544444561004639, theta=0.0, linear_velocity=0.0, angular_velocity=0.0)\n",
      "X :  5.544444561004639\n",
      "Y :  5.544444561004639\n",
      "Theta :  0.0\n"
     ]
    }
   ],
   "source": [
    "rp.spin_once(test_node)"
   ]
  },
  {
   "cell_type": "code",
   "execution_count": 12,
   "id": "e6e04d8e-e8a5-434f-b30e-21d19d7d76cc",
   "metadata": {},
   "outputs": [],
   "source": [
    "test_node.destroy_node()"
   ]
  },
  {
   "cell_type": "code",
   "execution_count": null,
   "id": "6db3e087-162f-467e-a7ed-34716a47ac3a",
   "metadata": {},
   "outputs": [],
   "source": []
  }
 ],
 "metadata": {
  "kernelspec": {
   "display_name": "Python 3 (ipykernel)",
   "language": "python",
   "name": "python3"
  },
  "language_info": {
   "codemirror_mode": {
    "name": "ipython",
    "version": 3
   },
   "file_extension": ".py",
   "mimetype": "text/x-python",
   "name": "python",
   "nbconvert_exporter": "python",
   "pygments_lexer": "ipython3",
   "version": "3.10.12"
  }
 },
 "nbformat": 4,
 "nbformat_minor": 5
}
