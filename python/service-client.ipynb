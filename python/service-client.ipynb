{
 "cells": [
  {
   "cell_type": "code",
   "execution_count": 1,
   "id": "7ff53959-22f2-4bcd-8014-3f7a6457dda8",
   "metadata": {},
   "outputs": [],
   "source": [
    "import rclpy as rp\n",
    "from turtlesim.srv import TeleportAbsolute"
   ]
  },
  {
   "cell_type": "code",
   "execution_count": 2,
   "id": "2ba9529c-9592-46e0-a47f-483526dde278",
   "metadata": {},
   "outputs": [],
   "source": [
    "rp.init()"
   ]
  },
  {
   "cell_type": "code",
   "execution_count": 3,
   "id": "8d0a61e0-13df-45e1-9f97-bfe0a36f085b",
   "metadata": {},
   "outputs": [],
   "source": [
    "test_node = rp.create_node('client_test')"
   ]
  },
  {
   "cell_type": "code",
   "execution_count": 8,
   "id": "d96abc34-0ab1-467e-991e-97dba277cd3c",
   "metadata": {},
   "outputs": [],
   "source": [
    "service_name = 'turtle1/teleport_absolute'\n",
    "cli = test_node.create_client(TeleportAbsolute, service_name)"
   ]
  },
  {
   "cell_type": "code",
   "execution_count": 9,
   "id": "88beb953-3ad2-44ef-bed8-c9b1e7861521",
   "metadata": {},
   "outputs": [],
   "source": [
    "req = TeleportAbsolute.Request()"
   ]
  },
  {
   "cell_type": "code",
   "execution_count": 10,
   "id": "8f92124a-e133-41c8-9f77-557773918724",
   "metadata": {},
   "outputs": [],
   "source": [
    "req.x = 1. # float(1)\n",
    "req.y = 1.\n",
    "req.theta = 3.14"
   ]
  },
  {
   "cell_type": "code",
   "execution_count": 11,
   "id": "361cffed-78c5-42cd-9a90-c6632dc79ba5",
   "metadata": {},
   "outputs": [
    {
     "data": {
      "text/plain": [
       "turtlesim.srv.TeleportAbsolute_Request(x=1.0, y=1.0, theta=3.14)"
      ]
     },
     "execution_count": 11,
     "metadata": {},
     "output_type": "execute_result"
    }
   ],
   "source": [
    "req"
   ]
  },
  {
   "cell_type": "code",
   "execution_count": 12,
   "id": "1fd31a37-71c6-423f-a4ca-4a8e0b34f4af",
   "metadata": {},
   "outputs": [],
   "source": [
    "req.x = 3.\n",
    "\n",
    "cli.call_async(req)\n",
    "rp.spin_once(test_node)"
   ]
  },
  {
   "cell_type": "code",
   "execution_count": 13,
   "id": "d4e1f121-e59f-4bbe-8377-97abb30c9195",
   "metadata": {},
   "outputs": [],
   "source": [
    "req.y = 9.\n",
    "\n",
    "while not cli.wait_for_service(timeout_sec=1.0):\n",
    "    print(\"Waiting for service\")\n",
    "\n",
    "cli.call_async(req)\n",
    "rp.spin_once(test_node)"
   ]
  },
  {
   "cell_type": "code",
   "execution_count": 14,
   "id": "fddfd547-844c-4490-b7e2-93c43b3d7af5",
   "metadata": {},
   "outputs": [
    {
     "name": "stdout",
     "output_type": "stream",
     "text": [
      "False None\n",
      "False None\n",
      "True turtlesim.srv.TeleportAbsolute_Response()\n"
     ]
    }
   ],
   "source": [
    "req.x = 9.\n",
    "\n",
    "future = cli.call_async(req)\n",
    "\n",
    "while not future.done():\n",
    "    rp.spin_once(test_node)\n",
    "    print(future.done(), future.result())"
   ]
  },
  {
   "cell_type": "code",
   "execution_count": null,
   "id": "d4ff98df-fe57-4664-936a-2f587cc9daf9",
   "metadata": {},
   "outputs": [],
   "source": []
  }
 ],
 "metadata": {
  "kernelspec": {
   "display_name": "Python 3 (ipykernel)",
   "language": "python",
   "name": "python3"
  },
  "language_info": {
   "codemirror_mode": {
    "name": "ipython",
    "version": 3
   },
   "file_extension": ".py",
   "mimetype": "text/x-python",
   "name": "python",
   "nbconvert_exporter": "python",
   "pygments_lexer": "ipython3",
   "version": "3.10.12"
  }
 },
 "nbformat": 4,
 "nbformat_minor": 5
}
